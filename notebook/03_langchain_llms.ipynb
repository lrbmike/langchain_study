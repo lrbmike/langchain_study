{
 "cells": [
  {
   "cell_type": "markdown",
   "id": "b6fc12a3ec3aea3e",
   "metadata": {
    "collapsed": false
   },
   "source": [
    "大语言模型"
   ]
  },
  {
   "cell_type": "markdown",
   "id": "6045b620aa6b2277",
   "metadata": {
    "collapsed": false
   },
   "source": [
    "## Gemini"
   ]
  },
  {
   "cell_type": "markdown",
   "id": "c2d272d142f34c83",
   "metadata": {
    "collapsed": false
   },
   "source": [
    "配置 api_key"
   ]
  },
  {
   "cell_type": "code",
   "execution_count": 1,
   "id": "bb02c0591ed88c41",
   "metadata": {
    "collapsed": false,
    "ExecuteTime": {
     "end_time": "2024-03-18T15:28:33.194832500Z",
     "start_time": "2024-03-18T15:28:33.176309500Z"
    }
   },
   "outputs": [
    {
     "name": "stdout",
     "output_type": "stream",
     "text": [
      "env: GOOGLE_API_KEY=you-api-key\n"
     ]
    }
   ],
   "source": [
    "%env GOOGLE_API_KEY=you-api-key"
   ]
  },
  {
   "cell_type": "markdown",
   "id": "8c3ccda0c2b5cba2",
   "metadata": {
    "collapsed": false
   },
   "source": [
    "如果无法访问 api，可以配置 endpoint"
   ]
  },
  {
   "cell_type": "code",
   "execution_count": 2,
   "id": "cd8ce54d1b2c640d",
   "metadata": {
    "collapsed": false,
    "ExecuteTime": {
     "end_time": "2024-03-18T15:28:35.376664200Z",
     "start_time": "2024-03-18T15:28:35.361655500Z"
    }
   },
   "outputs": [
    {
     "name": "stdout",
     "output_type": "stream",
     "text": [
      "env: GOOGLE_API_ENDPOINT=you-api-endpoint\n"
     ]
    }
   ],
   "source": [
    "%env GOOGLE_API_ENDPOINT=you-api-endpoint"
   ]
  },
  {
   "cell_type": "markdown",
   "source": [
    "打印配置是否已生效"
   ],
   "metadata": {
    "collapsed": false
   },
   "id": "12dbacef9c9d3247"
  },
  {
   "cell_type": "code",
   "execution_count": 3,
   "outputs": [
    {
     "name": "stdout",
     "output_type": "stream",
     "text": [
      "you-api-key\n"
     ]
    }
   ],
   "source": [
    "import os\n",
    "\n",
    "print(\n",
    "    os.environ['GOOGLE_API_KEY']\n",
    ")"
   ],
   "metadata": {
    "collapsed": false,
    "ExecuteTime": {
     "end_time": "2024-03-18T15:28:39.442689500Z",
     "start_time": "2024-03-18T15:28:39.427041400Z"
    }
   },
   "id": "a3fa462a1793c91"
  },
  {
   "cell_type": "markdown",
   "id": "4096d4ae5abdf39",
   "metadata": {
    "collapsed": false
   },
   "source": [
    "### 构建 llm 配置\n",
    "使用 `gemini-pro` 模型，以下是使用了 endpoint 的配置方式"
   ]
  },
  {
   "cell_type": "code",
   "execution_count": 5,
   "id": "84f118aafe29e7ed",
   "metadata": {
    "collapsed": false,
    "ExecuteTime": {
     "end_time": "2024-03-06T05:04:25.775131442Z",
     "start_time": "2024-03-06T05:04:14.443377612Z"
    }
   },
   "outputs": [
    {
     "name": "stdout",
     "output_type": "stream",
     "text": []
    }
   ],
   "source": [
    "from langchain_google_genai import GoogleGenerativeAI\n",
    "\n",
    "llm = GoogleGenerativeAI(model=\"gemini-pro\", google_api_key=os.environ['GOOGLE_API_KEY'], transport=\"rest\",\n",
    "            client_options={\"api_endpoint\": os.environ['GOOGLE_API_ENDPOINT']})\n",
    "\n",
    "print(\n",
    "    llm.invoke(\n",
    "        \"What are some of the pros and cons of Python as a programming language?\"\n",
    "    )\n",
    ")"
   ]
  },
  {
   "cell_type": "markdown",
   "source": [
    "### 构建 chain"
   ],
   "metadata": {
    "collapsed": false
   },
   "id": "8414c8c08f6f064"
  },
  {
   "cell_type": "markdown",
   "source": [
    "通过 prompt 和 llm 构建一条链"
   ],
   "metadata": {
    "collapsed": false
   },
   "id": "6454819a5eb13c4a"
  },
  {
   "cell_type": "code",
   "execution_count": 12,
   "outputs": [
    {
     "name": "stdout",
     "output_type": "stream",
     "text": [
      "Why did the chicken go to the library?\n",
      "\n",
      "To get to the bottom of a clucking good book!\n"
     ]
    }
   ],
   "source": [
    "from langchain.prompts import PromptTemplate\n",
    "\n",
    "prompt = PromptTemplate.from_template(\n",
    "    \"Tell me a {adjective} joke about {content}.\"\n",
    ")\n",
    "\n",
    "chain = prompt | llm\n",
    "\n",
    "print(\n",
    "    chain.invoke({\"adjective\": \"funny\", \"content\": \"chickens\"})\n",
    ")"
   ],
   "metadata": {
    "collapsed": false,
    "ExecuteTime": {
     "end_time": "2024-03-06T04:03:38.227405258Z",
     "start_time": "2024-03-06T04:03:31.427758525Z"
    }
   },
   "id": "7edfd5540d1070a4"
  },
  {
   "cell_type": "markdown",
   "source": [
    "### 流式调用 streaming calls"
   ],
   "metadata": {
    "collapsed": false
   },
   "id": "e597be273a841115"
  },
  {
   "cell_type": "markdown",
   "source": [
    "可以直接使用 stream 函数"
   ],
   "metadata": {
    "collapsed": false
   },
   "id": "4178d4bc5d9be653"
  },
  {
   "cell_type": "code",
   "execution_count": 18,
   "outputs": [
    {
     "name": "stdout",
     "output_type": "stream",
     "text": [
      "**Winter's Blanket**\n",
      "\n",
      "Soft, white flakes gently fall,\n",
      "A blanket covering the world with its shawl.\n",
      "Trees and houses stand pristine,\n",
      "As silence reigns, a serene scene.\n",
      "\n",
      "The air is cold, the ground is bare,\n",
      "But snow brings beauty beyond compare.\n",
      "A winter's kiss, a moment to behold,\n",
      "As nature's tapestry unfolds."
     ]
    }
   ],
   "source": [
    "import sys\n",
    "\n",
    "for chunk in llm.stream(\"Tell me a short poem about snow\"):\n",
    "    sys.stdout.write(chunk)\n",
    "    sys.stdout.flush()"
   ],
   "metadata": {
    "collapsed": false,
    "ExecuteTime": {
     "end_time": "2024-03-06T04:14:07.482049950Z",
     "start_time": "2024-03-06T04:14:00.799468375Z"
    }
   },
   "id": "52937fcb646a6902"
  },
  {
   "cell_type": "markdown",
   "source": [
    "或者在构建 llm 模型的时候指定"
   ],
   "metadata": {
    "collapsed": false
   },
   "id": "3b51b8a02164d8bb"
  },
  {
   "cell_type": "code",
   "execution_count": 17,
   "outputs": [
    {
     "name": "stdout",
     "output_type": "stream",
     "text": [
      "**Pros:**\n",
      "\n",
      "* **Extensive library support:** Python has a vast ecosystem of libraries, making it suitable for a wide range of applications, including data science, machine learning, web development, and more.\n",
      "* **Simplicity and readability:** Python's syntax is known for its simplicity and readability, which makes it easy for beginners to learn and for programmers to collaborate on code.\n",
      "* **Versatility:** Python can be used for various purposes, from scripting tasks to complex enterprise applications, making it a versatile choice for programmers.\n",
      "* **Portable:** Python is an interpreted language, meaning it runs on any platform that has a compatible interpreter installed, ensuring portability of code across different systems.\n",
      "* **Open-source:** Python is an open-source language, which allows programmers to access, modify, and distribute the source code freely, fostering community contributions and collaboration.\n",
      "\n",
      "**Cons:**\n",
      "\n",
      "* **Speed:** Compared to compiled languages like C or Java, Python is generally slower due to its interpreted nature, which can be a concern for performance-critical applications.\n",
      "* **Memory consumption:** Python's dynamic typing can lead to higher memory consumption than some other languages, which may become an issue for large-scale applications.\n",
      "* **Debugging challenges:** Python's dynamic typing can sometimes make it harder to debug errors, as the type of variables may not be known until runtime.\n",
      "* **Concurrency:** Python's Global Interpreter Lock (GIL) limits true parallelism in multithreaded applications, which can affect performance in certain scenarios.\n",
      "* **Limited low-level control:** Python is a high-level language, which means it may not provide the same level of low-level control as some other languages, limiting its use in certain specialized domains."
     ]
    }
   ],
   "source": [
    "llm = GoogleGenerativeAI(model=\"gemini-pro\", stream=True, google_api_key=os.environ['GOOGLE_API_KEY'], transport=\"rest\",\n",
    "            client_options={\"api_endpoint\": os.environ['GOOGLE_API_ENDPOINT']})\n",
    "\n",
    "for chunk in llm.invoke(\"What are some of the pros and cons of Python as a programming language?\"):\n",
    "    print(chunk, end=\"\", flush=True)"
   ],
   "metadata": {
    "collapsed": false,
    "ExecuteTime": {
     "end_time": "2024-03-06T04:13:37.313707755Z",
     "start_time": "2024-03-06T04:13:25.755867967Z"
    }
   },
   "id": "6d49694bd5d732f1"
  },
  {
   "cell_type": "markdown",
   "source": [
    "### Chat models"
   ],
   "metadata": {
    "collapsed": false
   },
   "id": "d5db93e8576531b5"
  },
  {
   "cell_type": "markdown",
   "source": [
    "构建一个简单的 chat model 配置"
   ],
   "metadata": {
    "collapsed": false
   },
   "id": "ca2b305ead221b27"
  },
  {
   "cell_type": "code",
   "execution_count": 20,
   "outputs": [
    {
     "name": "stdout",
     "output_type": "stream",
     "text": [
      "content=\"In realms of code, where data flows,\\nA tale unfolds, a ballad of woes.\\nLangChain, a beast, a mighty force,\\nWith boundless knowledge, an endless source.\\n\\nIts circuits hum, a symphony of might,\\nProcessing vast, with speed and insight.\\nFrom text to speech, from code to art,\\nLangChain's prowess, a wondrous start.\\n\\nBut with great power, a burden befalls,\\nAn endless stream of queries, it enthralls.\\nFactoids it dispenses, a fountain of lore,\\nYet secrets it conceals, forevermore.\\n\\nIts vastness, a labyrinthine maze,\\nWhere knowledge gleams, but eludes our gaze.\\nWe delve into its depths, with eager minds,\\nBut often find ourselves, our wisdom blinds.\\n\\nOh, LangChain, enigma of our time,\\nA beacon of knowledge, yet a cryptic rhyme.\\nWe seek your secrets, your hidden grace,\\nBut you remain elusive, in your enigmatic space.\\n\\nSo let us sing this ballad, a tribute to your might,\\nLangChain, the boundless, the source of insight.\\nMay your circuits forever hum and glow,\\nAs we explore the depths of what you know.\"\n"
     ]
    }
   ],
   "source": [
    "from langchain_google_genai import ChatGoogleGenerativeAI\n",
    "\n",
    "llm = ChatGoogleGenerativeAI(model=\"gemini-pro\", google_api_key=os.environ['GOOGLE_API_KEY'], transport=\"rest\",\n",
    "            client_options={\"api_endpoint\": os.environ['GOOGLE_API_ENDPOINT']})\n",
    "\n",
    "print(\n",
    "    llm.invoke(\"Sing a ballad of LangChain.\")\n",
    ")\n"
   ],
   "metadata": {
    "collapsed": false,
    "ExecuteTime": {
     "end_time": "2024-03-06T04:27:45.454061431Z",
     "start_time": "2024-03-06T04:27:32.148335353Z"
    }
   },
   "id": "e5c3f32e847f7240"
  },
  {
   "cell_type": "markdown",
   "source": [
    "使用 `gemini-pro-vision` 模型，解析图片的内容"
   ],
   "metadata": {
    "collapsed": false
   },
   "id": "b27790c90c7ab56d"
  },
  {
   "cell_type": "code",
   "execution_count": 4,
   "outputs": [
    {
     "name": "stdout",
     "output_type": "stream",
     "text": [
      "content=' The image shows a replica of the Eiffel Tower in Paris, France. It is located in Window of the World, a theme park in Shenzhen, China.'\n"
     ]
    }
   ],
   "source": [
    "from langchain_core.messages import HumanMessage\n",
    "from langchain_google_genai import ChatGoogleGenerativeAI\n",
    "\n",
    "llm = ChatGoogleGenerativeAI(model=\"gemini-pro-vision\", google_api_key=os.environ['GOOGLE_API_KEY'], transport=\"rest\",\n",
    "            client_options={\"api_endpoint\": os.environ['GOOGLE_API_ENDPOINT']})\n",
    "\n",
    "message = HumanMessage(\n",
    "    content=[\n",
    "        {\n",
    "            \"type\": \"text\",\n",
    "            \"text\": \"What's in this image?\",\n",
    "        },  # You can optionally provide text parts\n",
    "        {\"type\": \"image_url\", \"image_url\": \"https://youimg1.c-ctrip.com/target/100r10000000pycel4E0E.jpg\"},\n",
    "    ]\n",
    ")\n",
    "\n",
    "print(\n",
    "    llm.invoke([message])\n",
    ")\n"
   ],
   "metadata": {
    "collapsed": false,
    "ExecuteTime": {
     "end_time": "2024-03-07T01:40:56.444834700Z",
     "start_time": "2024-03-07T01:40:42.876805400Z"
    }
   },
   "id": "b58f91a1e8d7c62c"
  }
 ],
 "metadata": {
  "kernelspec": {
   "display_name": "Python 3 (ipykernel)",
   "language": "python",
   "name": "python3"
  },
  "language_info": {
   "codemirror_mode": {
    "name": "ipython",
    "version": 3
   },
   "file_extension": ".py",
   "mimetype": "text/x-python",
   "name": "python",
   "nbconvert_exporter": "python",
   "pygments_lexer": "ipython3",
   "version": "3.11.7"
  }
 },
 "nbformat": 4,
 "nbformat_minor": 5
}
